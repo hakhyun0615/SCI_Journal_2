{
 "cells": [
  {
   "cell_type": "code",
   "execution_count": 1,
   "metadata": {},
   "outputs": [],
   "source": [
    "import os\n",
    "import pickle\n",
    "import numpy as np\n",
    "from tqdm import tqdm\n",
    "\n",
    "import torch\n",
    "from graph_models import SpatioTemporalGNN\n",
    "from torch_geometric_temporal.signal import StaticGraphTemporalSignal"
   ]
  },
  {
   "cell_type": "code",
   "execution_count": 2,
   "metadata": {},
   "outputs": [
    {
     "name": "stdout",
     "output_type": "stream",
     "text": [
      "cuda\n"
     ]
    }
   ],
   "source": [
    "model_type = 'STGCN'\n",
    "\n",
    "num_epochs = 500\n",
    "learning_rate = 1e-4\n",
    "\n",
    "device = torch.device('cuda' if torch.cuda.is_available() else 'cpu')\n",
    "print(device)"
   ]
  },
  {
   "cell_type": "code",
   "execution_count": 3,
   "metadata": {},
   "outputs": [],
   "source": [
    "save_dir = '../../dataset/graph'\n",
    "os.makedirs(save_dir, exist_ok=True)\n",
    "\n",
    "# load\n",
    "file_path = os.path.join(save_dir, f\"dataset.pkl\")\n",
    "with open(file_path, 'rb') as f:\n",
    "    dataset = pickle.load(f)"
   ]
  },
  {
   "cell_type": "code",
   "execution_count": 4,
   "metadata": {},
   "outputs": [
    {
     "name": "stdout",
     "output_type": "stream",
     "text": [
      "Data(x=[42840, 40, 28], edge_index=[2, 299550], edge_attr=[299550], y=[42840, 28])\n",
      "train_dataset:  66\n",
      "val_dataset:  1\n",
      "test_dataset:  1\n"
     ]
    }
   ],
   "source": [
    "total_length = len(dataset.features)-1\n",
    "val_length = 1\n",
    "test_length = 1\n",
    "    \n",
    "train_dataset = StaticGraphTemporalSignal(\n",
    "    edge_index=dataset.edge_index,\n",
    "    edge_weight=None,\n",
    "    features=dataset.features[:total_length - (test_length + val_length)],\n",
    "    targets=dataset.targets[:total_length - (test_length + val_length)],\n",
    ")\n",
    "val_dataset = StaticGraphTemporalSignal(\n",
    "    edge_index=dataset.edge_index,\n",
    "    edge_weight=None,\n",
    "    features=dataset.features[total_length - (test_length + val_length):total_length - test_length],\n",
    "    targets=dataset.targets[total_length - (test_length + val_length):total_length - test_length],\n",
    ")\n",
    "test_dataset = StaticGraphTemporalSignal(\n",
    "    edge_index=dataset.edge_index,\n",
    "    edge_weight=None,\n",
    "    features=dataset.features[total_length - test_length:total_length], \n",
    "    targets=dataset.targets[total_length - test_length:total_length],\n",
    ")\n",
    "print(next(iter(dataset)))\n",
    "print(\"train_dataset: \", len(list(train_dataset)))\n",
    "print(\"val_dataset: \", len(list(val_dataset)))\n",
    "print(\"test_dataset: \", len(list(test_dataset)))"
   ]
  },
  {
   "cell_type": "code",
   "execution_count": 5,
   "metadata": {},
   "outputs": [
    {
     "name": "stdout",
     "output_type": "stream",
     "text": [
      "SpatioTemporalGNN(\n",
      "  (stgnn): STConv(\n",
      "    (_temporal_conv1): TemporalConv(\n",
      "      (conv_1): Conv2d(40, 64, kernel_size=(1, 3), stride=(1, 1))\n",
      "      (conv_2): Conv2d(40, 64, kernel_size=(1, 3), stride=(1, 1))\n",
      "      (conv_3): Conv2d(40, 64, kernel_size=(1, 3), stride=(1, 1))\n",
      "    )\n",
      "    (_graph_conv): ChebConv(64, 64, K=3, normalization=sym)\n",
      "    (_temporal_conv2): TemporalConv(\n",
      "      (conv_1): Conv2d(64, 28, kernel_size=(1, 3), stride=(1, 1))\n",
      "      (conv_2): Conv2d(64, 28, kernel_size=(1, 3), stride=(1, 1))\n",
      "      (conv_3): Conv2d(64, 28, kernel_size=(1, 3), stride=(1, 1))\n",
      "    )\n",
      "    (_batch_norm): BatchNorm2d(42840, eps=1e-05, momentum=0.1, affine=True, track_running_stats=True)\n",
      "  )\n",
      ")\n"
     ]
    }
   ],
   "source": [
    "num_hidden_features=64\n",
    "num_output_features=28\n",
    "kernel_size=3\n",
    "K=3\n",
    "\n",
    "model = SpatioTemporalGNN(\n",
    "    model_type=model_type,\n",
    "    num_nodes=dataset[0].x.shape[0],\n",
    "    num_node_features=dataset[0].x.shape[1],\n",
    "    num_hidden_features=num_hidden_features,\n",
    "    num_output_features=num_output_features,\n",
    "    kernel_size=kernel_size,\n",
    "    K=K,\n",
    ").to(device)\n",
    "print(model)\n",
    "\n",
    "optimizer = torch.optim.Adam(model.parameters(), lr=learning_rate)"
   ]
  },
  {
   "cell_type": "code",
   "execution_count": null,
   "metadata": {},
   "outputs": [
    {
     "name": "stderr",
     "output_type": "stream",
     "text": [
      "  0%|          | 1/500 [00:24<3:22:16, 24.32s/it]"
     ]
    },
    {
     "name": "stdout",
     "output_type": "stream",
     "text": [
      "Epoch 1/500, Train Loss: 77010.73301373106, Val Loss: 111791.0625\n"
     ]
    },
    {
     "name": "stderr",
     "output_type": "stream",
     "text": [
      "  0%|          | 2/500 [00:49<3:24:18, 24.62s/it]"
     ]
    },
    {
     "name": "stdout",
     "output_type": "stream",
     "text": [
      "Epoch 2/500, Train Loss: 77009.72141335228, Val Loss: 111790.1171875\n"
     ]
    },
    {
     "name": "stderr",
     "output_type": "stream",
     "text": [
      "  1%|          | 3/500 [01:13<3:24:11, 24.65s/it]"
     ]
    },
    {
     "name": "stdout",
     "output_type": "stream",
     "text": [
      "Epoch 3/500, Train Loss: 77009.38648200757, Val Loss: 111789.5234375\n"
     ]
    },
    {
     "name": "stderr",
     "output_type": "stream",
     "text": [
      "  1%|          | 4/500 [01:38<3:25:17, 24.83s/it]"
     ]
    },
    {
     "name": "stdout",
     "output_type": "stream",
     "text": [
      "Epoch 4/500, Train Loss: 77009.2099905303, Val Loss: 111789.421875\n"
     ]
    },
    {
     "name": "stderr",
     "output_type": "stream",
     "text": [
      "  1%|          | 5/500 [02:03<3:24:46, 24.82s/it]"
     ]
    },
    {
     "name": "stdout",
     "output_type": "stream",
     "text": [
      "Epoch 5/500, Train Loss: 77009.05303030302, Val Loss: 111789.2421875\n"
     ]
    },
    {
     "name": "stderr",
     "output_type": "stream",
     "text": [
      "  1%|          | 6/500 [02:28<3:24:00, 24.78s/it]"
     ]
    },
    {
     "name": "stdout",
     "output_type": "stream",
     "text": [
      "Epoch 6/500, Train Loss: 77008.89879261363, Val Loss: 111788.9140625\n"
     ]
    },
    {
     "name": "stderr",
     "output_type": "stream",
     "text": [
      "  1%|▏         | 7/500 [02:53<3:24:20, 24.87s/it]"
     ]
    },
    {
     "name": "stdout",
     "output_type": "stream",
     "text": [
      "Epoch 7/500, Train Loss: 77008.744140625, Val Loss: 111788.515625\n"
     ]
    },
    {
     "name": "stderr",
     "output_type": "stream",
     "text": [
      "  2%|▏         | 8/500 [03:18<3:23:16, 24.79s/it]"
     ]
    },
    {
     "name": "stdout",
     "output_type": "stream",
     "text": [
      "Epoch 8/500, Train Loss: 77008.59339488637, Val Loss: 111788.40625\n"
     ]
    },
    {
     "name": "stderr",
     "output_type": "stream",
     "text": [
      "  2%|▏         | 9/500 [03:43<3:23:24, 24.86s/it]"
     ]
    },
    {
     "name": "stdout",
     "output_type": "stream",
     "text": [
      "Epoch 9/500, Train Loss: 77008.43158143939, Val Loss: 111787.859375\n"
     ]
    },
    {
     "name": "stderr",
     "output_type": "stream",
     "text": [
      "  2%|▏         | 10/500 [04:07<3:22:57, 24.85s/it]"
     ]
    },
    {
     "name": "stdout",
     "output_type": "stream",
     "text": [
      "Epoch 10/500, Train Loss: 77008.27852746213, Val Loss: 111787.6875\n"
     ]
    }
   ],
   "source": [
    "save_dir = f'../../result/graph/{model_type}'\n",
    "os.makedirs(save_dir, exist_ok=True)\n",
    "\n",
    "patience = 15 \n",
    "early_stopping_counter = 0 \n",
    "best_val_loss = float('inf')  \n",
    "\n",
    "torch.cuda.empty_cache()\n",
    "for epoch in tqdm(range(num_epochs)):\n",
    "    # train\n",
    "    model.train()\n",
    "    train_loss = 0\n",
    "    for snapshot in train_dataset:\n",
    "        snapshot = snapshot.to(device)\n",
    "        y_hat = model(snapshot.x.permute(2, 0, 1).unsqueeze(0), snapshot.edge_index)\n",
    "        loss = torch.mean((y_hat.squeeze() - snapshot.y)**2)\n",
    "        train_loss += loss.item()\n",
    "    \n",
    "        optimizer.zero_grad()\n",
    "        loss.backward()\n",
    "        optimizer.step()\n",
    "        \n",
    "        del snapshot, y_hat, loss\n",
    "        \n",
    "    train_loss = train_loss / train_dataset.snapshot_count\n",
    "    \n",
    "    # val\n",
    "    model.eval()\n",
    "    val_loss = 0\n",
    "    with torch.no_grad():\n",
    "        for snapshot in val_dataset:\n",
    "            snapshot = snapshot.to(device)\n",
    "            y_hat = model(snapshot.x.permute(2, 0, 1).unsqueeze(0), snapshot.edge_index)\n",
    "            loss = torch.mean((y_hat.squeeze() - snapshot.y)**2)\n",
    "            val_loss += loss.item()\n",
    "            \n",
    "            del snapshot, y_hat, loss\n",
    "            \n",
    "    val_loss = val_loss / val_dataset.snapshot_count\n",
    "    print(f'Epoch {epoch+1}/{num_epochs}, Train Loss: {train_loss}, Val Loss: {val_loss}')\n",
    "    \n",
    "    # early stopping\n",
    "    if val_loss < best_val_loss:\n",
    "        best_val_loss = val_loss\n",
    "        early_stopping_counter = 0\n",
    "        torch.save(model.state_dict(), os.path.join(save_dir, f'model.pt'))\n",
    "    else:\n",
    "        early_stopping_counter += 1\n",
    "        if early_stopping_counter >= patience:\n",
    "            print(\"Early stopped\")\n",
    "            break\n",
    "\n",
    "# load best model\n",
    "torch.cuda.empty_cache()\n",
    "model.load_state_dict(torch.load(os.path.join(save_dir, 'model.pt')))\n",
    "print(\"Model loaded\")\n",
    "\n",
    "# test\n",
    "model.eval()\n",
    "result = {}\n",
    "test_loss = 0\n",
    "with torch.no_grad():\n",
    "    for snapshot in test_dataset:\n",
    "        snapshot = snapshot.to(device)\n",
    "        y_hat = model(snapshot.x.permute(2, 0, 1).unsqueeze(0), snapshot.edge_index)\n",
    "        loss = torch.mean((y_hat.squeeze() - snapshot.y)**2)\n",
    "        test_loss += loss.item()\n",
    "        \n",
    "        y_pred = y_hat.detach().cpu().numpy()\n",
    "        y_label = snapshot.y.detach().cpu().numpy()\n",
    "        \n",
    "        result.update({\"label\": y_label, \"pred\": y_pred})\n",
    "        \n",
    "        del snapshot, y_hat, loss, y_pred, y_label\n",
    "    \n",
    "    test_loss = test_loss / test_dataset.snapshot_count\n",
    "    print(f\"Test Loss: {test_loss}\")\n",
    "    result.update({\"mse\": test_loss})\n",
    "\n",
    "with open(os.path.join(save_dir, f'result.pkl'), \"wb\") as f:\n",
    "    pickle.dump(result, f)\n",
    "os.rename(save_dir, f'../../result/graph/{model_type}_{result[\"mse\"]:.2f}')"
   ]
  }
 ],
 "metadata": {
  "kernelspec": {
   "display_name": "pytorch",
   "language": "python",
   "name": "python3"
  },
  "language_info": {
   "codemirror_mode": {
    "name": "ipython",
    "version": 3
   },
   "file_extension": ".py",
   "mimetype": "text/x-python",
   "name": "python",
   "nbconvert_exporter": "python",
   "pygments_lexer": "ipython3",
   "version": "3.9.21"
  }
 },
 "nbformat": 4,
 "nbformat_minor": 4
}
