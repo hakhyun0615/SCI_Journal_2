{
 "cells": [
  {
   "cell_type": "code",
   "execution_count": 1,
   "metadata": {},
   "outputs": [],
   "source": [
    "import torch\n",
    "from torch_geometric.data import Data\n",
    "from torch_geometric.loader import DataLoader\n",
    "import torch.utils.data as data"
   ]
  },
  {
   "cell_type": "code",
   "execution_count": 4,
   "metadata": {},
   "outputs": [],
   "source": [
    "pyg_data = torch.load('../dataset/graph/pyg_data.pt', weights_only=False)"
   ]
  },
  {
   "cell_type": "code",
   "execution_count": 5,
   "metadata": {},
   "outputs": [],
   "source": [
    "class GraphDataset(data.Dataset):\n",
    "    def __init__(self, pyg_data, window_size=28, stride=28):\n",
    "        self.pyg_data = pyg_data\n",
    "        self.time_length = pyg_data.x.shape[1]\n",
    "        self.window_size = window_size\n",
    "        self.num_windows = max(0, (self.time_length - 2*window_size) // stride + 1)\n",
    "        self.stride = stride\n",
    "    \n",
    "    def __len__(self):\n",
    "        return self.num_windows\n",
    "    \n",
    "    def __getitem__(self, idx):\n",
    "        start_idx = idx * self.stride\n",
    "        input_window = self.pyg_data.x[:, start_idx:start_idx+self.window_size].clone()\n",
    "        output_window = self.pyg_data.x[:, start_idx+self.window_size:start_idx+2*self.window_size].clone()\n",
    "        \n",
    "        data = Data(\n",
    "            x=input_window,\n",
    "            y=output_window,\n",
    "            edge_index=self.pyg_data.edge_index,\n",
    "            edge_type=self.pyg_data.edge_type,\n",
    "            num_nodes=self.pyg_data.num_nodes,\n",
    "            num_edge_types=self.pyg_data.num_edge_types\n",
    "        )\n",
    "        \n",
    "        return data\n",
    "\n",
    "# 데이터셋 분할\n",
    "def create_train_val_test_datasets(graph_data, window_size=28, stride=1, train_ratio=0.7, val_ratio=0.15):\n",
    "    \"\"\"\n",
    "    훈련/검증/테스트 데이터셋 생성\n",
    "    \"\"\"\n",
    "    dataset = GraphDataset(graph_data, window_size, stride)\n",
    "    \n",
    "    # 데이터 개수\n",
    "    n_samples = len(dataset)\n",
    "    \n",
    "    if n_samples == 0:\n",
    "        raise ValueError(\"데이터셋에 샘플이 없습니다. 윈도우 크기와 시계열 길이를 확인하세요.\")\n",
    "    \n",
    "    # 각 분할의 크기 계산\n",
    "    train_size = int(n_samples * train_ratio)\n",
    "    val_size = int(n_samples * val_ratio)\n",
    "    test_size = n_samples - train_size - val_size\n",
    "    \n",
    "    # 인덱스 분할\n",
    "    indices = list(range(n_samples))\n",
    "    \n",
    "    # 시간적 의존성을 고려하여 순차적 분할\n",
    "    train_indices = indices[:train_size]\n",
    "    val_indices = indices[train_size:train_size+val_size]\n",
    "    test_indices = indices[train_size+val_size:]\n",
    "    \n",
    "    # 서브셋 생성\n",
    "    train_dataset = torch.utils.data.Subset(dataset, train_indices)\n",
    "    val_dataset = torch.utils.data.Subset(dataset, val_indices)\n",
    "    test_dataset = torch.utils.data.Subset(dataset, test_indices)\n",
    "    \n",
    "    return train_dataset, val_dataset, test_dataset\n",
    "\n",
    "# 데이터셋 생성\n",
    "train_dataset, val_dataset, test_dataset = create_train_val_test_datasets(pyg_data)\n",
    "\n",
    "# 데이터로더 생성\n",
    "batch_size = 1  # 그래프 전체가 하나의 배치\n",
    "train_loader = DataLoader(train_dataset, batch_size=batch_size, shuffle=True)\n",
    "val_loader = DataLoader(val_dataset, batch_size=batch_size, shuffle=False)\n",
    "test_loader = DataLoader(test_dataset, batch_size=batch_size, shuffle=False)"
   ]
  }
 ],
 "metadata": {
  "kernelspec": {
   "display_name": "sci2",
   "language": "python",
   "name": "python3"
  },
  "language_info": {
   "codemirror_mode": {
    "name": "ipython",
    "version": 3
   },
   "file_extension": ".py",
   "mimetype": "text/x-python",
   "name": "python",
   "nbconvert_exporter": "python",
   "pygments_lexer": "ipython3",
   "version": "3.9.21"
  }
 },
 "nbformat": 4,
 "nbformat_minor": 2
}
