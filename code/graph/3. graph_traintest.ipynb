{
 "cells": [
  {
   "cell_type": "code",
   "execution_count": 1,
   "metadata": {},
   "outputs": [],
   "source": [
    "import os\n",
    "import pickle\n",
    "import numpy as np\n",
    "from tqdm import tqdm\n",
    "\n",
    "import torch\n",
    "from graph_models.stgcn import STGCN\n",
    "from torch_geometric_temporal.signal import StaticGraphTemporalSignal"
   ]
  },
  {
   "cell_type": "code",
   "execution_count": 2,
   "metadata": {},
   "outputs": [
    {
     "name": "stdout",
     "output_type": "stream",
     "text": [
      "cuda\n"
     ]
    }
   ],
   "source": [
    "model_type = 'STGCN'\n",
    "\n",
    "num_epochs = 500\n",
    "learning_rate = 1e-4\n",
    "\n",
    "device = torch.device('cuda' if torch.cuda.is_available() else 'cpu')\n",
    "print(device)"
   ]
  },
  {
   "cell_type": "code",
   "execution_count": 3,
   "metadata": {},
   "outputs": [],
   "source": [
    "save_dir = '../../dataset/graph'\n",
    "os.makedirs(save_dir, exist_ok=True)\n",
    "\n",
    "# load\n",
    "file_path = os.path.join(save_dir, f\"dataset.pkl\")\n",
    "with open(file_path, 'rb') as f:\n",
    "    dataset = pickle.load(f)"
   ]
  },
  {
   "cell_type": "code",
   "execution_count": 4,
   "metadata": {},
   "outputs": [
    {
     "name": "stdout",
     "output_type": "stream",
     "text": [
      "Data(x=[42840, 40, 28], edge_index=[2, 299550], edge_attr=[299550], y=[42840, 28])\n",
      "train_dataset:  66\n",
      "val_dataset:  1\n",
      "test_dataset:  1\n"
     ]
    }
   ],
   "source": [
    "total_length = len(dataset.features)-1\n",
    "val_length = 1\n",
    "test_length = 1\n",
    "    \n",
    "train_dataset = StaticGraphTemporalSignal(\n",
    "    edge_index=dataset.edge_index,\n",
    "    edge_weight=None,\n",
    "    features=dataset.features[:total_length - (test_length + val_length)],\n",
    "    targets=dataset.targets[:total_length - (test_length + val_length)],\n",
    ")\n",
    "val_dataset = StaticGraphTemporalSignal(\n",
    "    edge_index=dataset.edge_index,\n",
    "    edge_weight=None,\n",
    "    features=dataset.features[total_length - (test_length + val_length):total_length - test_length],\n",
    "    targets=dataset.targets[total_length - (test_length + val_length):total_length - test_length],\n",
    ")\n",
    "test_dataset = StaticGraphTemporalSignal(\n",
    "    edge_index=dataset.edge_index,\n",
    "    edge_weight=None,\n",
    "    features=dataset.features[total_length - test_length:total_length], \n",
    "    targets=dataset.targets[total_length - test_length:total_length],\n",
    ")\n",
    "print(next(iter(dataset)))\n",
    "print(\"train_dataset: \", len(list(train_dataset)))\n",
    "print(\"val_dataset: \", len(list(val_dataset)))\n",
    "print(\"test_dataset: \", len(list(test_dataset)))"
   ]
  },
  {
   "cell_type": "code",
   "execution_count": 5,
   "metadata": {},
   "outputs": [
    {
     "name": "stdout",
     "output_type": "stream",
     "text": [
      "STGCN(\n",
      "  (stconv_blocks): ModuleList(\n",
      "    (0): STConv(\n",
      "      (_temporal_conv1): TemporalConv(\n",
      "        (conv_1): Conv2d(40, 64, kernel_size=(1, 3), stride=(1, 1))\n",
      "        (conv_2): Conv2d(40, 64, kernel_size=(1, 3), stride=(1, 1))\n",
      "      )\n",
      "      (_graph_conv): ChebConv(64, 16, K=3, normalization=sym)\n",
      "      (_temporal_conv2): TemporalConv(\n",
      "        (conv_1): Conv2d(16, 64, kernel_size=(1, 3), stride=(1, 1))\n",
      "        (conv_2): Conv2d(16, 64, kernel_size=(1, 3), stride=(1, 1))\n",
      "      )\n",
      "      (_batch_norm): BatchNorm2d(42840, eps=1e-05, momentum=0.1, affine=True, track_running_stats=True)\n",
      "    )\n",
      "    (1): STConv(\n",
      "      (_temporal_conv1): TemporalConv(\n",
      "        (conv_1): Conv2d(64, 64, kernel_size=(1, 3), stride=(1, 1))\n",
      "        (conv_2): Conv2d(64, 64, kernel_size=(1, 3), stride=(1, 1))\n",
      "      )\n",
      "      (_graph_conv): ChebConv(64, 16, K=3, normalization=sym)\n",
      "      (_temporal_conv2): TemporalConv(\n",
      "        (conv_1): Conv2d(16, 64, kernel_size=(1, 3), stride=(1, 1))\n",
      "        (conv_2): Conv2d(16, 64, kernel_size=(1, 3), stride=(1, 1))\n",
      "      )\n",
      "      (_batch_norm): BatchNorm2d(42840, eps=1e-05, momentum=0.1, affine=True, track_running_stats=True)\n",
      "    )\n",
      "  )\n",
      "  (fc1): Linear(in_features=20, out_features=28, bias=True)\n",
      "  (fc2): Linear(in_features=64, out_features=1, bias=True)\n",
      "  (relu): ReLU()\n",
      ")\n"
     ]
    }
   ],
   "source": [
    "if model_type == 'STGCN':\n",
    "    model = STGCN(\n",
    "        num_nodes=dataset[0].x.shape[0],\n",
    "        feature_dim=dataset[0].x.shape[1],\n",
    "    )\n",
    "model = model.to(device)\n",
    "print(model)\n",
    "\n",
    "optimizer = torch.optim.Adam(model.parameters(), lr=learning_rate)"
   ]
  },
  {
   "cell_type": "code",
   "execution_count": 6,
   "metadata": {},
   "outputs": [
    {
     "data": {
      "text/plain": [
       "torch.Size([42840, 40, 28])"
      ]
     },
     "execution_count": 6,
     "metadata": {},
     "output_type": "execute_result"
    }
   ],
   "source": [
    "dataset[0].x.shape"
   ]
  },
  {
   "cell_type": "code",
   "execution_count": null,
   "metadata": {},
   "outputs": [
    {
     "name": "stderr",
     "output_type": "stream",
     "text": [
      "  0%|          | 0/500 [00:00<?, ?it/s]"
     ]
    }
   ],
   "source": [
    "save_dir = f'../../result/graph/{model_type}'\n",
    "os.makedirs(save_dir, exist_ok=True)\n",
    "\n",
    "patience = 15 \n",
    "early_stopping_counter = 0 \n",
    "best_val_loss = float('inf')  \n",
    "\n",
    "torch.cuda.empty_cache()\n",
    "for epoch in tqdm(range(num_epochs)):\n",
    "    # train\n",
    "    model.train()\n",
    "    train_loss = 0\n",
    "    for snapshot in train_dataset:\n",
    "        snapshot = snapshot.to(device)\n",
    "        y_hat = model(snapshot.x.permute(1, 0, 2).unsqueeze(0), snapshot.edge_index)\n",
    "        loss = torch.mean((y_hat.squeeze() - snapshot.y)**2)\n",
    "        train_loss += loss.item()\n",
    "    \n",
    "        optimizer.zero_grad()\n",
    "        loss.backward()\n",
    "        optimizer.step()\n",
    "        \n",
    "        del snapshot, y_hat, loss\n",
    "        \n",
    "    train_loss = train_loss / train_dataset.snapshot_count\n",
    "    \n",
    "    # val\n",
    "    model.eval()\n",
    "    val_loss = 0\n",
    "    with torch.no_grad():\n",
    "        for snapshot in val_dataset:\n",
    "            snapshot = snapshot.to(device)\n",
    "            y_hat = model(snapshot.x.permute(1, 0, 2).unsqueeze(0), snapshot.edge_index)\n",
    "            loss = torch.mean((y_hat.squeeze() - snapshot.y)**2)\n",
    "            val_loss += loss.item()\n",
    "            \n",
    "            del snapshot, y_hat, loss\n",
    "            \n",
    "    val_loss = val_loss / val_dataset.snapshot_count\n",
    "    print(f'Epoch {epoch+1}/{num_epochs}, Train Loss: {train_loss}, Val Loss: {val_loss}')\n",
    "    \n",
    "    # early stopping\n",
    "    if val_loss < best_val_loss:\n",
    "        best_val_loss = val_loss\n",
    "        early_stopping_counter = 0\n",
    "        torch.save(model.state_dict(), os.path.join(save_dir, f'model.pt'))\n",
    "    else:\n",
    "        early_stopping_counter += 1\n",
    "        if early_stopping_counter >= patience:\n",
    "            print(\"Early stopped\")\n",
    "            break\n",
    "\n",
    "# load best model\n",
    "torch.cuda.empty_cache()\n",
    "model.load_state_dict(torch.load(os.path.join(save_dir, 'model.pt')))\n",
    "print(\"Model loaded\")\n",
    "\n",
    "# test\n",
    "model.eval()\n",
    "result = {}\n",
    "test_loss = 0\n",
    "with torch.no_grad():\n",
    "    for snapshot in test_dataset:\n",
    "        snapshot = snapshot.to(device)\n",
    "        y_hat = model(snapshot.x.permute(1, 0, 2).unsqueeze(0), snapshot.edge_index)\n",
    "        loss = torch.mean((y_hat.squeeze() - snapshot.y)**2)\n",
    "        test_loss += loss.item()\n",
    "        \n",
    "        y_pred = y_hat.detach().cpu().numpy()\n",
    "        y_label = snapshot.y.detach().cpu().numpy()\n",
    "        \n",
    "        result.update({\"label\": y_label, \"pred\": y_pred})\n",
    "        \n",
    "        del snapshot, y_hat, loss, y_pred, y_label\n",
    "    \n",
    "    test_loss = test_loss / test_dataset.snapshot_count\n",
    "    print(f\"Test Loss: {test_loss}\")\n",
    "    result.update({\"mse\": test_loss})\n",
    "\n",
    "with open(os.path.join(save_dir, f'result.pkl'), \"wb\") as f:\n",
    "    pickle.dump(result, f)\n",
    "os.rename(save_dir, f'../../result/graph/{model_type}_{result[\"mse\"]:.2f}')"
   ]
  }
 ],
 "metadata": {
  "kernelspec": {
   "display_name": "pytorch",
   "language": "python",
   "name": "python3"
  },
  "language_info": {
   "codemirror_mode": {
    "name": "ipython",
    "version": 3
   },
   "file_extension": ".py",
   "mimetype": "text/x-python",
   "name": "python",
   "nbconvert_exporter": "python",
   "pygments_lexer": "ipython3",
   "version": "3.9.21"
  }
 },
 "nbformat": 4,
 "nbformat_minor": 4
}
