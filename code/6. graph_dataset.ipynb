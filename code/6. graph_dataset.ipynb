{
 "cells": [
  {
   "cell_type": "code",
   "execution_count": 10,
   "metadata": {},
   "outputs": [],
   "source": [
    "import torch\n",
    "from torch_geometric.data import Data\n",
    "from torch_geometric.datasets \n",
    "from torch_geometric.loader import DataLoader\n",
    "import torch.utils.data as data"
   ]
  },
  {
   "cell_type": "code",
   "execution_count": 4,
   "metadata": {},
   "outputs": [],
   "source": [
    "pyg_data = torch.load('../dataset/graph/pyg_data.pt', weights_only=False)"
   ]
  },
  {
   "cell_type": "code",
   "execution_count": 2,
   "metadata": {},
   "outputs": [
    {
     "name": "stdout",
     "output_type": "stream",
     "text": [
      "PyTorch 버전: 2.6.0\n",
      "CUDA 사용 가능 여부: False\n",
      "운영체제: Darwin 24.3.0\n",
      "Python 버전: 3.10.4\n"
     ]
    }
   ],
   "source": [
    "import torch\n",
    "import platform\n",
    "\n",
    "# PyTorch 버전\n",
    "print(f\"PyTorch 버전: {torch.__version__}\")\n",
    "\n",
    "# CUDA 사용 가능 여부 및 버전\n",
    "print(f\"CUDA 사용 가능 여부: {torch.cuda.is_available()}\")\n",
    "if torch.cuda.is_available():\n",
    "    print(f\"CUDA 버전 (PyTorch에서 인식한): {torch.version.cuda}\")\n",
    "    print(f\"GPU 이름: {torch.cuda.get_device_name(0)}\")\n",
    "\n",
    "# OS 정보\n",
    "print(f\"운영체제: {platform.system()} {platform.release()}\")\n",
    "\n",
    "# Python 버전\n",
    "print(f\"Python 버전: {platform.python_version()}\")"
   ]
  },
  {
   "cell_type": "code",
   "execution_count": 1,
   "metadata": {},
   "outputs": [
    {
     "name": "stdout",
     "output_type": "stream",
     "text": [
      "Collecting torch-geometric-temporal\n",
      "  Using cached torch_geometric_temporal-0.56.0-py3-none-any.whl.metadata (1.9 kB)\n",
      "Collecting decorator==4.4.2 (from torch-geometric-temporal)\n",
      "  Using cached decorator-4.4.2-py2.py3-none-any.whl.metadata (4.2 kB)\n",
      "Requirement already satisfied: torch in /Users/kimhakhyun/.pyenv/versions/3.10.4/envs/sci2/lib/python3.10/site-packages (from torch-geometric-temporal) (2.6.0)\n",
      "Collecting cython (from torch-geometric-temporal)\n",
      "  Using cached Cython-3.0.12-py2.py3-none-any.whl.metadata (3.3 kB)\n",
      "Collecting torch_sparse (from torch-geometric-temporal)\n",
      "  Using cached torch_sparse-0.6.18.tar.gz (209 kB)\n",
      "  Installing build dependencies ... \u001b[?25ldone\n",
      "\u001b[?25h  Getting requirements to build wheel ... \u001b[?25lerror\n",
      "  \u001b[1;31merror\u001b[0m: \u001b[1msubprocess-exited-with-error\u001b[0m\n",
      "  \n",
      "  \u001b[31m×\u001b[0m \u001b[32mGetting requirements to build wheel\u001b[0m did not run successfully.\n",
      "  \u001b[31m│\u001b[0m exit code: \u001b[1;36m1\u001b[0m\n",
      "  \u001b[31m╰─>\u001b[0m \u001b[31m[17 lines of output]\u001b[0m\n",
      "  \u001b[31m   \u001b[0m Traceback (most recent call last):\n",
      "  \u001b[31m   \u001b[0m   File \"/Users/kimhakhyun/.pyenv/versions/sci2/lib/python3.10/site-packages/pip/_vendor/pyproject_hooks/_in_process/_in_process.py\", line 389, in <module>\n",
      "  \u001b[31m   \u001b[0m     main()\n",
      "  \u001b[31m   \u001b[0m   File \"/Users/kimhakhyun/.pyenv/versions/sci2/lib/python3.10/site-packages/pip/_vendor/pyproject_hooks/_in_process/_in_process.py\", line 373, in main\n",
      "  \u001b[31m   \u001b[0m     json_out[\"return_val\"] = hook(**hook_input[\"kwargs\"])\n",
      "  \u001b[31m   \u001b[0m   File \"/Users/kimhakhyun/.pyenv/versions/sci2/lib/python3.10/site-packages/pip/_vendor/pyproject_hooks/_in_process/_in_process.py\", line 143, in get_requires_for_build_wheel\n",
      "  \u001b[31m   \u001b[0m     return hook(config_settings)\n",
      "  \u001b[31m   \u001b[0m   File \"/private/var/folders/xj/_swws2td1j333fqkjhr5tmjr0000gn/T/pip-build-env-yxwu2m9z/overlay/lib/python3.10/site-packages/setuptools/build_meta.py\", line 334, in get_requires_for_build_wheel\n",
      "  \u001b[31m   \u001b[0m     return self._get_build_requires(config_settings, requirements=[])\n",
      "  \u001b[31m   \u001b[0m   File \"/private/var/folders/xj/_swws2td1j333fqkjhr5tmjr0000gn/T/pip-build-env-yxwu2m9z/overlay/lib/python3.10/site-packages/setuptools/build_meta.py\", line 304, in _get_build_requires\n",
      "  \u001b[31m   \u001b[0m     self.run_setup()\n",
      "  \u001b[31m   \u001b[0m   File \"/private/var/folders/xj/_swws2td1j333fqkjhr5tmjr0000gn/T/pip-build-env-yxwu2m9z/overlay/lib/python3.10/site-packages/setuptools/build_meta.py\", line 522, in run_setup\n",
      "  \u001b[31m   \u001b[0m     super().run_setup(setup_script=setup_script)\n",
      "  \u001b[31m   \u001b[0m   File \"/private/var/folders/xj/_swws2td1j333fqkjhr5tmjr0000gn/T/pip-build-env-yxwu2m9z/overlay/lib/python3.10/site-packages/setuptools/build_meta.py\", line 320, in run_setup\n",
      "  \u001b[31m   \u001b[0m     exec(code, locals())\n",
      "  \u001b[31m   \u001b[0m   File \"<string>\", line 8, in <module>\n",
      "  \u001b[31m   \u001b[0m ModuleNotFoundError: No module named 'torch'\n",
      "  \u001b[31m   \u001b[0m \u001b[31m[end of output]\u001b[0m\n",
      "  \n",
      "  \u001b[1;35mnote\u001b[0m: This error originates from a subprocess, and is likely not a problem with pip.\n",
      "\u001b[?25h\u001b[1;31merror\u001b[0m: \u001b[1msubprocess-exited-with-error\u001b[0m\n",
      "\n",
      "\u001b[31m×\u001b[0m \u001b[32mGetting requirements to build wheel\u001b[0m did not run successfully.\n",
      "\u001b[31m│\u001b[0m exit code: \u001b[1;36m1\u001b[0m\n",
      "\u001b[31m╰─>\u001b[0m See above for output.\n",
      "\n",
      "\u001b[1;35mnote\u001b[0m: This error originates from a subprocess, and is likely not a problem with pip.\n",
      "Note: you may need to restart the kernel to use updated packages.\n"
     ]
    }
   ],
   "source": [
    "pip install torch-geometric-temporal"
   ]
  },
  {
   "cell_type": "code",
   "execution_count": 5,
   "metadata": {},
   "outputs": [],
   "source": [
    "class HierarchicalTimeSeriesDataset(data.Dataset):\n",
    "    def __init__(self, pyg_data, window_size=28, stride=28):\n",
    "        self.pyg_data = pyg_data\n",
    "        self.time_length = pyg_data.x.shape[1]\n",
    "        self.window_size = window_size\n",
    "        self.num_windows = max(0, (self.time_length - 2*window_size) // stride + 1)\n",
    "        self.stride = stride\n",
    "    \n",
    "    def __len__(self):\n",
    "        return self.num_windows\n",
    "    \n",
    "    def __getitem__(self, idx):\n",
    "        start_idx = idx * self.stride\n",
    "        input_window = self.pyg_data.x[:, start_idx:start_idx+self.window_size].clone()\n",
    "        output_window = self.pyg_data.x[:, start_idx+self.window_size:start_idx+2*self.window_size].clone()\n",
    "        \n",
    "        data = Data(\n",
    "            x=input_window,\n",
    "            y=output_window,\n",
    "            edge_index=self.pyg_data.edge_index,\n",
    "            edge_type=self.pyg_data.edge_type,\n",
    "            num_nodes=self.pyg_data.num_nodes,\n",
    "            num_edge_types=self.pyg_data.num_edge_types\n",
    "        )\n",
    "        \n",
    "        return data\n",
    "\n",
    "# 데이터셋 분할\n",
    "def create_train_val_test_datasets(graph_data, window_size=28, stride=1, train_ratio=0.7, val_ratio=0.15):\n",
    "    \"\"\"\n",
    "    훈련/검증/테스트 데이터셋 생성\n",
    "    \"\"\"\n",
    "    dataset = HierarchicalTimeSeriesDataset(graph_data, window_size, stride)\n",
    "    \n",
    "    # 데이터 개수\n",
    "    n_samples = len(dataset)\n",
    "    \n",
    "    if n_samples == 0:\n",
    "        raise ValueError(\"데이터셋에 샘플이 없습니다. 윈도우 크기와 시계열 길이를 확인하세요.\")\n",
    "    \n",
    "    # 각 분할의 크기 계산\n",
    "    train_size = int(n_samples * train_ratio)\n",
    "    val_size = int(n_samples * val_ratio)\n",
    "    test_size = n_samples - train_size - val_size\n",
    "    \n",
    "    # 인덱스 분할\n",
    "    indices = list(range(n_samples))\n",
    "    \n",
    "    # 시간적 의존성을 고려하여 순차적 분할\n",
    "    train_indices = indices[:train_size]\n",
    "    val_indices = indices[train_size:train_size+val_size]\n",
    "    test_indices = indices[train_size+val_size:]\n",
    "    \n",
    "    # 서브셋 생성\n",
    "    train_dataset = torch.utils.data.Subset(dataset, train_indices)\n",
    "    val_dataset = torch.utils.data.Subset(dataset, val_indices)\n",
    "    test_dataset = torch.utils.data.Subset(dataset, test_indices)\n",
    "    \n",
    "    return train_dataset, val_dataset, test_dataset\n",
    "\n",
    "# 데이터셋 생성\n",
    "train_dataset, val_dataset, test_dataset = create_train_val_test_datasets(pyg_data)\n",
    "\n",
    "# 데이터로더 생성\n",
    "batch_size = 1  # 그래프 전체가 하나의 배치\n",
    "train_loader = DataLoader(train_dataset, batch_size=batch_size, shuffle=True)\n",
    "val_loader = DataLoader(val_dataset, batch_size=batch_size, shuffle=False)\n",
    "test_loader = DataLoader(test_dataset, batch_size=batch_size, shuffle=False)"
   ]
  }
 ],
 "metadata": {
  "kernelspec": {
   "display_name": "sci2",
   "language": "python",
   "name": "python3"
  },
  "language_info": {
   "codemirror_mode": {
    "name": "ipython",
    "version": 3
   },
   "file_extension": ".py",
   "mimetype": "text/x-python",
   "name": "python",
   "nbconvert_exporter": "python",
   "pygments_lexer": "ipython3",
   "version": "3.10.4"
  }
 },
 "nbformat": 4,
 "nbformat_minor": 2
}
