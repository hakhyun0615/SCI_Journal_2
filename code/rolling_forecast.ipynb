{
 "cells": [
  {
   "cell_type": "code",
   "execution_count": null,
   "metadata": {},
   "outputs": [],
   "source": [
    "import os\n",
    "import pickle\n",
    "\n",
    "import pandas as pd\n",
    "import matplotlib.pyplot as plt\n",
    "\n",
    "from pathlib import Path\n",
    "from gluonts.dataset.common import ListDataset\n",
    "from gluonts.model.predictor import Predictor\n",
    "from gluonts.dataset.field_names import FieldName\n",
    "from gluonts.evaluation import make_evaluation_predictions"
   ]
  },
  {
   "cell_type": "code",
   "execution_count": 38,
   "metadata": {},
   "outputs": [],
   "source": [
    "level_idx = 12\n",
    "estimator_name = \"DeepAR\"\n",
    "\n",
    "dataset_path = f'../dataset/else/dataset_level_{level_idx}.pkl'\n",
    "\n",
    "result_dir = '../result'\n",
    "level_dir = os.path.join(result_dir, f'level {level_idx}')\n",
    "model_dirs = [d for d in os.listdir(level_dir) if d.startswith(f'{estimator_name}_')]\n",
    "model_dir = os.path.join(level_dir, model_dirs[0])"
   ]
  },
  {
   "cell_type": "code",
   "execution_count": 39,
   "metadata": {},
   "outputs": [],
   "source": [
    "with open(dataset_path, 'rb') as f:\n",
    "    dataset = pickle.load(f)\n",
    "dataset = dataset['test']\n",
    "\n",
    "predictor = Predictor.deserialize(Path(model_dir))"
   ]
  },
  {
   "cell_type": "code",
   "execution_count": 40,
   "metadata": {},
   "outputs": [],
   "source": [
    "time_series_length = len(dataset[0][FieldName.TARGET])\n",
    "window_size = 56\n",
    "stride = 28\n",
    "\n",
    "num_rolling_windows = (time_series_length - window_size) // stride + 1"
   ]
  },
  {
   "cell_type": "code",
   "execution_count": 41,
   "metadata": {},
   "outputs": [
    {
     "name": "stdout",
     "output_type": "stream",
     "text": [
      "0 28 56\n"
     ]
    },
    {
     "ename": "KeyboardInterrupt",
     "evalue": "",
     "output_type": "error",
     "traceback": [
      "\u001b[1;31m---------------------------------------------------------------------------\u001b[0m",
      "\u001b[1;31mKeyboardInterrupt\u001b[0m                         Traceback (most recent call last)",
      "Cell \u001b[1;32mIn[41], line 30\u001b[0m\n\u001b[0;32m     23\u001b[0m rolling_window_datasset \u001b[38;5;241m=\u001b[39m ListDataset(rolling_window_data, freq\u001b[38;5;241m=\u001b[39m\u001b[38;5;124m\"\u001b[39m\u001b[38;5;124mD\u001b[39m\u001b[38;5;124m\"\u001b[39m)\n\u001b[0;32m     25\u001b[0m rolling_window_forecasts_it, rolling_window_labels_it \u001b[38;5;241m=\u001b[39m make_evaluation_predictions(\n\u001b[0;32m     26\u001b[0m     dataset\u001b[38;5;241m=\u001b[39mrolling_window_datasset,\n\u001b[0;32m     27\u001b[0m     predictor\u001b[38;5;241m=\u001b[39mpredictor,\n\u001b[0;32m     28\u001b[0m     num_samples\u001b[38;5;241m=\u001b[39m\u001b[38;5;241m1\u001b[39m\n\u001b[0;32m     29\u001b[0m )\n\u001b[1;32m---> 30\u001b[0m rolling_window_forecasts \u001b[38;5;241m=\u001b[39m \u001b[38;5;28;43mlist\u001b[39;49m\u001b[43m(\u001b[49m\u001b[43mrolling_window_forecasts_it\u001b[49m\u001b[43m)\u001b[49m \u001b[38;5;66;03m# 28\u001b[39;00m\n\u001b[0;32m     31\u001b[0m rolling_window_labels \u001b[38;5;241m=\u001b[39m \u001b[38;5;28mlist\u001b[39m(rolling_window_labels_it) \u001b[38;5;66;03m# 28\u001b[39;00m\n\u001b[0;32m     33\u001b[0m \u001b[38;5;28;01mfor\u001b[39;00m i \u001b[38;5;129;01min\u001b[39;00m \u001b[38;5;28mrange\u001b[39m(\u001b[38;5;28mlen\u001b[39m(rolling_window_forecasts)):\n",
      "File \u001b[1;32mc:\\Users\\USER\\anaconda3\\envs\\sci2\\lib\\site-packages\\gluonts\\mx\\model\\predictor.py:168\u001b[0m, in \u001b[0;36mGluonPredictor.predict\u001b[1;34m(self, dataset, num_samples, num_workers, num_prefetch, **kwargs)\u001b[0m\n\u001b[0;32m    161\u001b[0m inference_data_loader \u001b[38;5;241m=\u001b[39m InferenceDataLoader(\n\u001b[0;32m    162\u001b[0m     dataset,\n\u001b[0;32m    163\u001b[0m     transform\u001b[38;5;241m=\u001b[39m\u001b[38;5;28mself\u001b[39m\u001b[38;5;241m.\u001b[39minput_transform,\n\u001b[0;32m    164\u001b[0m     batch_size\u001b[38;5;241m=\u001b[39m\u001b[38;5;28mself\u001b[39m\u001b[38;5;241m.\u001b[39mbatch_size,\n\u001b[0;32m    165\u001b[0m     stack_fn\u001b[38;5;241m=\u001b[39mpartial(batchify, ctx\u001b[38;5;241m=\u001b[39m\u001b[38;5;28mself\u001b[39m\u001b[38;5;241m.\u001b[39mctx, dtype\u001b[38;5;241m=\u001b[39m\u001b[38;5;28mself\u001b[39m\u001b[38;5;241m.\u001b[39mdtype),\n\u001b[0;32m    166\u001b[0m )\n\u001b[0;32m    167\u001b[0m \u001b[38;5;28;01mwith\u001b[39;00m mx\u001b[38;5;241m.\u001b[39mContext(\u001b[38;5;28mself\u001b[39m\u001b[38;5;241m.\u001b[39mctx):\n\u001b[1;32m--> 168\u001b[0m     \u001b[38;5;28;01myield from\u001b[39;00m \u001b[38;5;28mself\u001b[39m\u001b[38;5;241m.\u001b[39mforecast_generator(\n\u001b[0;32m    169\u001b[0m         inference_data_loader\u001b[38;5;241m=\u001b[39minference_data_loader,\n\u001b[0;32m    170\u001b[0m         prediction_net\u001b[38;5;241m=\u001b[39m\u001b[38;5;28mself\u001b[39m\u001b[38;5;241m.\u001b[39mprediction_net,\n\u001b[0;32m    171\u001b[0m         input_names\u001b[38;5;241m=\u001b[39m\u001b[38;5;28mself\u001b[39m\u001b[38;5;241m.\u001b[39minput_names,\n\u001b[0;32m    172\u001b[0m         output_transform\u001b[38;5;241m=\u001b[39m\u001b[38;5;28mself\u001b[39m\u001b[38;5;241m.\u001b[39moutput_transform,\n\u001b[0;32m    173\u001b[0m         num_samples\u001b[38;5;241m=\u001b[39mnum_samples,\n\u001b[0;32m    174\u001b[0m     )\n",
      "File \u001b[1;32mc:\\Users\\USER\\anaconda3\\envs\\sci2\\lib\\site-packages\\gluonts\\model\\forecast_generator.py:174\u001b[0m, in \u001b[0;36mSampleForecastGenerator.__call__\u001b[1;34m(self, inference_data_loader, prediction_net, input_names, output_transform, num_samples, **kwargs)\u001b[0m\n\u001b[0;32m    172\u001b[0m \u001b[38;5;28;01mfor\u001b[39;00m batch \u001b[38;5;129;01min\u001b[39;00m inference_data_loader:\n\u001b[0;32m    173\u001b[0m     inputs \u001b[38;5;241m=\u001b[39m select(input_names, batch, ignore_missing\u001b[38;5;241m=\u001b[39m\u001b[38;5;28;01mTrue\u001b[39;00m)\n\u001b[1;32m--> 174\u001b[0m     outputs \u001b[38;5;241m=\u001b[39m \u001b[43mto_numpy\u001b[49m\u001b[43m(\u001b[49m\u001b[43mmake_predictions\u001b[49m\u001b[43m(\u001b[49m\u001b[43mprediction_net\u001b[49m\u001b[43m,\u001b[49m\u001b[43m \u001b[49m\u001b[43minputs\u001b[49m\u001b[43m)\u001b[49m\u001b[43m)\u001b[49m\n\u001b[0;32m    175\u001b[0m     \u001b[38;5;28;01mif\u001b[39;00m output_transform \u001b[38;5;129;01mis\u001b[39;00m \u001b[38;5;129;01mnot\u001b[39;00m \u001b[38;5;28;01mNone\u001b[39;00m:\n\u001b[0;32m    176\u001b[0m         outputs \u001b[38;5;241m=\u001b[39m output_transform(batch, outputs)\n",
      "File \u001b[1;32mc:\\Users\\USER\\anaconda3\\envs\\sci2\\lib\\functools.py:875\u001b[0m, in \u001b[0;36msingledispatch.<locals>.wrapper\u001b[1;34m(*args, **kw)\u001b[0m\n\u001b[0;32m    871\u001b[0m \u001b[38;5;28;01mif\u001b[39;00m \u001b[38;5;129;01mnot\u001b[39;00m args:\n\u001b[0;32m    872\u001b[0m     \u001b[38;5;28;01mraise\u001b[39;00m \u001b[38;5;167;01mTypeError\u001b[39;00m(\u001b[38;5;124mf\u001b[39m\u001b[38;5;124m'\u001b[39m\u001b[38;5;132;01m{\u001b[39;00mfuncname\u001b[38;5;132;01m}\u001b[39;00m\u001b[38;5;124m requires at least \u001b[39m\u001b[38;5;124m'\u001b[39m\n\u001b[0;32m    873\u001b[0m                     \u001b[38;5;124m'\u001b[39m\u001b[38;5;124m1 positional argument\u001b[39m\u001b[38;5;124m'\u001b[39m)\n\u001b[1;32m--> 875\u001b[0m \u001b[38;5;28;01mreturn\u001b[39;00m \u001b[43mdispatch\u001b[49m\u001b[43m(\u001b[49m\u001b[43margs\u001b[49m\u001b[43m[\u001b[49m\u001b[38;5;241;43m0\u001b[39;49m\u001b[43m]\u001b[49m\u001b[38;5;241;43m.\u001b[39;49m\u001b[38;5;18;43m__class__\u001b[39;49m\u001b[43m)\u001b[49m\u001b[43m(\u001b[49m\u001b[38;5;241;43m*\u001b[39;49m\u001b[43margs\u001b[49m\u001b[43m,\u001b[49m\u001b[43m \u001b[49m\u001b[38;5;241;43m*\u001b[39;49m\u001b[38;5;241;43m*\u001b[39;49m\u001b[43mkw\u001b[49m\u001b[43m)\u001b[49m\n",
      "File \u001b[1;32mc:\\Users\\USER\\anaconda3\\envs\\sci2\\lib\\site-packages\\gluonts\\mx\\model\\predictor.py:48\u001b[0m, in \u001b[0;36m_\u001b[1;34m(x)\u001b[0m\n\u001b[0;32m     46\u001b[0m \u001b[38;5;129m@to_numpy\u001b[39m\u001b[38;5;241m.\u001b[39mregister(mx\u001b[38;5;241m.\u001b[39mnd\u001b[38;5;241m.\u001b[39mNDArray)\n\u001b[0;32m     47\u001b[0m \u001b[38;5;28;01mdef\u001b[39;00m \u001b[38;5;21m_\u001b[39m(x: mx\u001b[38;5;241m.\u001b[39mnd\u001b[38;5;241m.\u001b[39mNDArray) \u001b[38;5;241m-\u001b[39m\u001b[38;5;241m>\u001b[39m np\u001b[38;5;241m.\u001b[39mndarray:\n\u001b[1;32m---> 48\u001b[0m     \u001b[38;5;28;01mreturn\u001b[39;00m \u001b[43mx\u001b[49m\u001b[38;5;241;43m.\u001b[39;49m\u001b[43masnumpy\u001b[49m\u001b[43m(\u001b[49m\u001b[43m)\u001b[49m\n",
      "File \u001b[1;32mc:\\Users\\USER\\anaconda3\\envs\\sci2\\lib\\site-packages\\mxnet\\ndarray\\ndarray.py:2563\u001b[0m, in \u001b[0;36mNDArray.asnumpy\u001b[1;34m(self)\u001b[0m\n\u001b[0;32m   2546\u001b[0m \u001b[38;5;250m\u001b[39m\u001b[38;5;124;03m\"\"\"Returns a ``numpy.ndarray`` object with value copied from this array.\u001b[39;00m\n\u001b[0;32m   2547\u001b[0m \n\u001b[0;32m   2548\u001b[0m \u001b[38;5;124;03mExamples\u001b[39;00m\n\u001b[1;32m   (...)\u001b[0m\n\u001b[0;32m   2560\u001b[0m \u001b[38;5;124;03m       [1, 1, 1]], dtype=int32)\u001b[39;00m\n\u001b[0;32m   2561\u001b[0m \u001b[38;5;124;03m\"\"\"\u001b[39;00m\n\u001b[0;32m   2562\u001b[0m data \u001b[38;5;241m=\u001b[39m np\u001b[38;5;241m.\u001b[39mempty(\u001b[38;5;28mself\u001b[39m\u001b[38;5;241m.\u001b[39mshape, dtype\u001b[38;5;241m=\u001b[39m\u001b[38;5;28mself\u001b[39m\u001b[38;5;241m.\u001b[39mdtype)\n\u001b[1;32m-> 2563\u001b[0m check_call(\u001b[43m_LIB\u001b[49m\u001b[38;5;241;43m.\u001b[39;49m\u001b[43mMXNDArraySyncCopyToCPU\u001b[49m\u001b[43m(\u001b[49m\n\u001b[0;32m   2564\u001b[0m \u001b[43m    \u001b[49m\u001b[38;5;28;43mself\u001b[39;49m\u001b[38;5;241;43m.\u001b[39;49m\u001b[43mhandle\u001b[49m\u001b[43m,\u001b[49m\n\u001b[0;32m   2565\u001b[0m \u001b[43m    \u001b[49m\u001b[43mdata\u001b[49m\u001b[38;5;241;43m.\u001b[39;49m\u001b[43mctypes\u001b[49m\u001b[38;5;241;43m.\u001b[39;49m\u001b[43mdata_as\u001b[49m\u001b[43m(\u001b[49m\u001b[43mctypes\u001b[49m\u001b[38;5;241;43m.\u001b[39;49m\u001b[43mc_void_p\u001b[49m\u001b[43m)\u001b[49m\u001b[43m,\u001b[49m\n\u001b[0;32m   2566\u001b[0m \u001b[43m    \u001b[49m\u001b[43mctypes\u001b[49m\u001b[38;5;241;43m.\u001b[39;49m\u001b[43mc_size_t\u001b[49m\u001b[43m(\u001b[49m\u001b[43mdata\u001b[49m\u001b[38;5;241;43m.\u001b[39;49m\u001b[43msize\u001b[49m\u001b[43m)\u001b[49m\u001b[43m)\u001b[49m)\n\u001b[0;32m   2567\u001b[0m \u001b[38;5;28;01mreturn\u001b[39;00m data\n",
      "\u001b[1;31mKeyboardInterrupt\u001b[0m: "
     ]
    }
   ],
   "source": [
    "forecasts = {dataset[i][FieldName.ITEM_ID]: [] for i in range(len(dataset))}\n",
    "\n",
    "for rolling_window in range(num_rolling_windows):\n",
    "    rolling_window_data = []\n",
    "\n",
    "    offset = rolling_window * stride + window_size // 2\n",
    "    context = offset - window_size // 2\n",
    "    prediction = offset + window_size // 2\n",
    "    print(context, offset, prediction)\n",
    "    \n",
    "    for item_idx in range(len(dataset)):\n",
    "        item = dataset[item_idx]\n",
    "\n",
    "        rolling_window_data.append({\n",
    "            FieldName.ITEM_ID: item[FieldName.ITEM_ID],\n",
    "            FieldName.TARGET: item[FieldName.TARGET][context:prediction],\n",
    "            FieldName.START: item[FieldName.START],\n",
    "            FieldName.FEAT_STATIC_CAT: item[FieldName.FEAT_STATIC_CAT],\n",
    "            FieldName.FEAT_DYNAMIC_REAL: item[FieldName.FEAT_DYNAMIC_REAL][:, context:prediction],\n",
    "            FieldName.FEAT_DYNAMIC_CAT: item[FieldName.FEAT_DYNAMIC_CAT][:, context:prediction]\n",
    "        })\n",
    "\n",
    "    rolling_window_datasset = ListDataset(rolling_window_data, freq=\"D\")\n",
    "    \n",
    "    rolling_window_forecasts_it, rolling_window_labels_it = make_evaluation_predictions(\n",
    "        dataset=rolling_window_datasset,\n",
    "        predictor=predictor,\n",
    "        num_samples=1\n",
    "    )\n",
    "    rolling_window_forecasts = list(rolling_window_forecasts_it) # 28\n",
    "    rolling_window_labels = list(rolling_window_labels_it) # 28\n",
    "\n",
    "    for i in range(len(rolling_window_forecasts)):\n",
    "        plt.figure(figsize=(12, 6))\n",
    "        plt.plot(rolling_window_labels[i][-100:].to_timestamp(), label=\"Actual\")\n",
    "        plt.plot(pd.Series(rolling_window_forecasts[i].quantile(0.5), index=rolling_window_forecasts[i].start_date.to_timestamp() + pd.to_timedelta(range(len(rolling_window_forecasts[0].quantile(0.5))), unit='D')), label=\"Forecast\")\n",
    "        plt.title(f'{rolling_window_forecasts[i].item_id}')\n",
    "        plt.xlabel('Date')\n",
    "        plt.ylabel('Sales')\n",
    "        plt.legend(loc=\"upper right\")\n",
    "        plt.show()\n",
    "        plt.close()\n",
    "\n",
    "    break\n",
    "\n",
    "   "
   ]
  },
  {
   "cell_type": "code",
   "execution_count": null,
   "metadata": {},
   "outputs": [],
   "source": []
  },
  {
   "cell_type": "code",
   "execution_count": null,
   "metadata": {},
   "outputs": [],
   "source": []
  }
 ],
 "metadata": {
  "kernelspec": {
   "display_name": "sci2",
   "language": "python",
   "name": "python3"
  },
  "language_info": {
   "codemirror_mode": {
    "name": "ipython",
    "version": 3
   },
   "file_extension": ".py",
   "mimetype": "text/x-python",
   "name": "python",
   "nbconvert_exporter": "python",
   "pygments_lexer": "ipython3",
   "version": "3.8.20"
  }
 },
 "nbformat": 4,
 "nbformat_minor": 2
}
