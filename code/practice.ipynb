{
 "cells": [
  {
   "cell_type": "code",
   "execution_count": 1,
   "metadata": {},
   "outputs": [
    {
     "name": "stderr",
     "output_type": "stream",
     "text": [
      "c:\\Users\\USER\\anaconda3\\envs\\capstone\\lib\\site-packages\\gluonts\\json.py:102: UserWarning: Using `json`-module for json-handling. Consider installing one of `orjson`, `ujson` to speed up serialization and deserialization.\n",
      "  warnings.warn(\n"
     ]
    }
   ],
   "source": [
    "import numpy as np\n",
    "import pandas as pd\n",
    "from gluonts.dataset.common import ListDataset\n",
    "from gluonts.dataset.field_names import FieldName\n",
    "\n",
    "def create_dataset(num_series, num_steps, period=24, mu=1, sigma=0.3):\n",
    "    # create target: noise + pattern\n",
    "    noise = np.random.normal(mu, sigma, size=(num_series, num_steps))\n",
    "\n",
    "    sin_minusPi_Pi = np.sin(\n",
    "        np.tile(np.linspace(-np.pi, np.pi, period), int(num_steps / period))\n",
    "    )\n",
    "    sin_Zero_2Pi = np.sin(\n",
    "        np.tile(np.linspace(0, 2 * np.pi, period), int(num_steps / period))\n",
    "    )\n",
    "\n",
    "    pattern = np.concatenate(\n",
    "        (\n",
    "            np.tile(sin_minusPi_Pi.reshape(1, -1), (int(np.ceil(num_series / 2)), 1)),\n",
    "            np.tile(sin_Zero_2Pi.reshape(1, -1), (int(np.floor(num_series / 2)), 1)),\n",
    "        ),\n",
    "        axis=0,\n",
    "    )\n",
    "\n",
    "    target = noise + pattern\n",
    "\n",
    "    feat_dynamic_real = np.concatenate(\n",
    "        (np.zeros((num_series, period)), target[:, :-period]), axis=1\n",
    "    )\n",
    "\n",
    "    feat_static_cat = np.concatenate(\n",
    "        (\n",
    "            np.zeros(int(np.ceil(num_series / 2))),\n",
    "            np.ones(int(np.floor(num_series / 2))),\n",
    "        ),\n",
    "        axis=0,\n",
    "    )\n",
    "\n",
    "    return target, feat_dynamic_real, feat_static_cat\n",
    "\n",
    "custom_ds_metadata = {\n",
    "    \"num_series\": 100,\n",
    "    \"num_steps\": 24 * 7,\n",
    "    \"prediction_length\": 24,\n",
    "    \"freq\": \"1H\",\n",
    "    \"start\": [pd.Period(\"01-01-2019\", freq=\"1H\") for _ in range(100)],\n",
    "}\n",
    "\n",
    "data_out = create_dataset(\n",
    "    custom_ds_metadata[\"num_series\"],\n",
    "    custom_ds_metadata[\"num_steps\"],\n",
    "    custom_ds_metadata[\"prediction_length\"],\n",
    ")\n",
    "\n",
    "target, feat_dynamic_real, feat_static_cat = data_out\n",
    "\n",
    "train_ds = ListDataset(\n",
    "    [\n",
    "        {\n",
    "            FieldName.TARGET: target,\n",
    "            FieldName.START: start,\n",
    "            FieldName.FEAT_DYNAMIC_REAL: [fdr],\n",
    "            FieldName.FEAT_STATIC_CAT: [fsc],\n",
    "        }\n",
    "        for (target, start, fdr, fsc) in zip(\n",
    "            target[:, : -custom_ds_metadata[\"prediction_length\"]],\n",
    "            custom_ds_metadata[\"start\"],\n",
    "            feat_dynamic_real[:, : -custom_ds_metadata[\"prediction_length\"]],\n",
    "            feat_static_cat,\n",
    "        )\n",
    "    ],\n",
    "    freq=custom_ds_metadata[\"freq\"],\n",
    ")\n",
    "\n",
    "test_ds = ListDataset(\n",
    "    [\n",
    "        {\n",
    "            FieldName.TARGET: target,\n",
    "            FieldName.START: start,\n",
    "            FieldName.FEAT_DYNAMIC_REAL: [fdr],\n",
    "            FieldName.FEAT_STATIC_CAT: [fsc],\n",
    "        }\n",
    "        for (target, start, fdr, fsc) in zip(\n",
    "            target, custom_ds_metadata[\"start\"], feat_dynamic_real, feat_static_cat\n",
    "        )\n",
    "    ],\n",
    "    freq=custom_ds_metadata[\"freq\"],\n",
    ")"
   ]
  },
  {
   "cell_type": "code",
   "execution_count": 2,
   "metadata": {},
   "outputs": [
    {
     "data": {
      "text/plain": [
       "array([0., 0., 0., 0., 0., 0., 0., 0., 0., 0., 0., 0., 0., 0., 0., 0., 0.,\n",
       "       0., 0., 0., 0., 0., 0., 0., 0., 0., 0., 0., 0., 0., 0., 0., 0., 0.,\n",
       "       0., 0., 0., 0., 0., 0., 0., 0., 0., 0., 0., 0., 0., 0., 0., 0., 1.,\n",
       "       1., 1., 1., 1., 1., 1., 1., 1., 1., 1., 1., 1., 1., 1., 1., 1., 1.,\n",
       "       1., 1., 1., 1., 1., 1., 1., 1., 1., 1., 1., 1., 1., 1., 1., 1., 1.,\n",
       "       1., 1., 1., 1., 1., 1., 1., 1., 1., 1., 1., 1., 1., 1., 1.])"
      ]
     },
     "execution_count": 2,
     "metadata": {},
     "output_type": "execute_result"
    }
   ],
   "source": [
    "feat_static_cat"
   ]
  },
  {
   "cell_type": "code",
   "execution_count": 3,
   "metadata": {},
   "outputs": [
    {
     "data": {
      "text/plain": [
       "(100, 168)"
      ]
     },
     "execution_count": 3,
     "metadata": {},
     "output_type": "execute_result"
    }
   ],
   "source": [
    "feat_dynamic_real.shape"
   ]
  }
 ],
 "metadata": {
  "kernelspec": {
   "display_name": "capstone",
   "language": "python",
   "name": "python3"
  },
  "language_info": {
   "codemirror_mode": {
    "name": "ipython",
    "version": 3
   },
   "file_extension": ".py",
   "mimetype": "text/x-python",
   "name": "python",
   "nbconvert_exporter": "python",
   "pygments_lexer": "ipython3",
   "version": "3.8.10"
  }
 },
 "nbformat": 4,
 "nbformat_minor": 2
}
