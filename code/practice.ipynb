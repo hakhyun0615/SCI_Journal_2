{
 "cells": [
  {
   "cell_type": "code",
   "execution_count": 2,
   "metadata": {},
   "outputs": [],
   "source": [
    "import pandas as pd\n",
    "import numpy as np\n",
    "import category_encoders as ce\n",
    "\n",
    "\n",
    "import warnings\n",
    "warnings.filterwarnings('ignore')"
   ]
  },
  {
   "cell_type": "code",
   "execution_count": 3,
   "metadata": {},
   "outputs": [],
   "source": [
    "input_data_dir = '../data/original'"
   ]
  },
  {
   "cell_type": "code",
   "execution_count": 4,
   "metadata": {},
   "outputs": [],
   "source": [
    "train_data = pd.read_csv(f'{input_data_dir}/sales_train_evaluation.csv')\n",
    "sell_prices = pd.read_csv(f'{input_data_dir}/sell_prices.csv')\n",
    "calendar = pd.read_csv(f'{input_data_dir}/calendar.csv')"
   ]
  },
  {
   "cell_type": "code",
   "execution_count": null,
   "metadata": {},
   "outputs": [],
   "source": [
    "calendar.date = pd.to_datetime(calendar.date)\n",
    "\n",
    "# \n",
    "calendar['relative_year'] = 2016 - calendar.year\n",
    "\n",
    "# cyclic encodings\n",
    "### weekend\n",
    "calendar['quarter_sin'] = np.sin(2 * np.pi * calendar.date.dt.quarter/4.0)\n",
    "calendar['quarter_cos'] = np.cos(2 * np.pi * calendar.date.dt.quarter/4.0)\n",
    "calendar['month_sin'] = np.sin(2 * np.pi * calendar.month/12.0)\n",
    "calendar['month_cos'] = np.cos(2 * np.pi * calendar.month/12.0)\n",
    "calendar['day_sin'] = np.sin(2 * np.pi * calendar.date.dt.day/calendar.date.dt.days_in_month)\n",
    "calendar['day_cos'] = np.cos(2 * np.pi * calendar.date.dt.day/calendar.date.dt.days_in_month)\n",
    "calendar['weekday_sin'] = np.sin(2 * np.pi * calendar.wday/7.0)\n",
    "calendar['weekday_cos'] = np.cos(2 * np.pi * calendar.wday/7.0)\n",
    "\n",
    "# event encodings\n",
    "### event_type\n",
    "cal_label = ['event_name_1', 'event_name_2']\n",
    "cal_label_encoded_cols = ['event_name_1_enc', 'event_name_2_enc']\n",
    "calendar[cal_label_encoded_cols] = calendar[cal_label]\n",
    "cal_label_encoder = ce.OrdinalEncoder(cols=cal_label_encoded_cols)\n",
    "cal_label_encoder.fit(calendar)\n",
    "cal_label_encoder.mapping[1]['mapping'] = cal_label_encoder.mapping[0]['mapping']\n",
    "calendar = cal_label_encoder.transform(calendar)\n",
    "for col in cal_label_encoded_cols:\n",
    "    calendar[col] = calendar[col] - 1\n",
    "\n",
    "# \n",
    "calendar_df = calendar[['wm_yr_wk', 'd', 'snap_CA', 'snap_TX', 'snap_WI', 'relative_year',\n",
    "                        'quarter_sin', 'quarter_cos', 'month_sin', 'month_cos', 'day_sin', 'day_cos', 'weekday_sin', 'weekday_cos']\n",
    "                        + cal_label_encoded_cols]\n",
    "\n",
    "# reduce memory usage\n",
    "calendar_df[['snap_CA', 'snap_TX', 'snap_WI', 'relative_year']] = calendar_df[\n",
    "    ['snap_CA', 'snap_TX', 'snap_WI', 'relative_year']].astype(np.int8)\n",
    "calendar_df[cal_label_encoded_cols] = calendar_df[cal_label_encoded_cols].astype(np.int16)"
   ]
  },
  {
   "cell_type": "code",
   "execution_count": 6,
   "metadata": {},
   "outputs": [],
   "source": [
    "train_data.id = train_data.id.str[:-11]\n",
    "\n",
    "label = ['item_id', 'dept_id', 'cat_id', 'store_id', 'state_id']\n",
    "label_encoded_cols = [str(i)+'_enc' for i in label]\n",
    "train_data[label_encoded_cols] = train_data[label]\n",
    "label_encoder = ce.OrdinalEncoder(cols=[str(i)+'_enc' for i in label])\n",
    "label_encoder.fit(train_data)\n",
    "train_data = label_encoder.transform(train_data)\n",
    "for col in label_encoded_cols:\n",
    "    train_data[col] = train_data[col] - 1"
   ]
  },
  {
   "cell_type": "code",
   "execution_count": 7,
   "metadata": {},
   "outputs": [],
   "source": [
    "sell_prices['id'] = sell_prices['item_id'] + '_' + sell_prices['store_id']\n",
    "\n",
    "# first sell\n",
    "first_sell = sell_prices.groupby('id')['wm_yr_wk'].min().reset_index()\n",
    "first_sell['first_sell'] = 1\n",
    "sell_prices = sell_prices.merge(right=first_sell[['id', 'first_sell']], on='id', how='left')\n",
    "sell_prices['first_sell'] = sell_prices['first_sell'].fillna(0)"
   ]
  },
  {
   "cell_type": "code",
   "execution_count": 8,
   "metadata": {},
   "outputs": [],
   "source": [
    "data_df = pd.melt(train_data, id_vars=['id', 'item_id', 'dept_id', 'cat_id', 'store_id', 'state_id',\n",
    "                                        'item_id_enc', 'dept_id_enc', 'cat_id_enc', 'store_id_enc', 'state_id_enc'],\n",
    "                    var_name='d', value_vars=['d_'+str(i) for i in range(1, 1942)], value_name='sales')\n",
    "\n",
    "# reduce memory usage\n",
    "data_df[label_encoded_cols] = data_df[label_encoded_cols].astype(np.int16)"
   ]
  },
  {
   "cell_type": "code",
   "execution_count": null,
   "metadata": {},
   "outputs": [],
   "source": [
    "# merge\n",
    "data_df = data_df.merge(right=calendar_df[['d', 'wm_yr_wk']], on=['d'], how='left')\n",
    "data_df = data_df.merge(right=sell_prices[['id', 'wm_yr_wk', 'first_sell', 'sell_price']], on=['id', 'wm_yr_wk'], how='left')\n",
    "\n",
    "# fill nan 0 (before release)\n",
    "data_df.first_sell = data_df.first_sell.fillna(0.0)\n",
    "data_df.sell_price = data_df.sell_price.fillna(0.0)\n",
    "\n",
    "# accumulate first sell\n",
    "data_df['first_sell'] = data_df.groupby('id')['first_sell'].transform(lambda x: (x > 0).cumsum())\n",
    "\n",
    "# out of stock\n",
    "def count_consecutive_zeros(group):\n",
    "    zeros = group['sales'] == 0\n",
    "    reset = ~zeros\n",
    "    groups = reset.cumsum()\n",
    "    result = zeros.groupby(groups).cumsum()\n",
    "    result = result.where(zeros, 0)\n",
    "    return result\n",
    "data_df['out_of_stock'] = data_df.groupby('id').apply(lambda x: count_consecutive_zeros(x)).reset_index(level=0, drop=True)\n",
    "\n",
    "# remove category columns\n",
    "del data_df['wm_yr_wk']\n",
    "del data_df['item_id']\n",
    "del data_df['dept_id']\n",
    "del data_df['cat_id']\n",
    "del data_df['store_id']\n",
    "del data_df['state_id']"
   ]
  },
  {
   "cell_type": "code",
   "execution_count": 9,
   "metadata": {},
   "outputs": [],
   "source": [
    "num_samples = data_df.id.nunique()\n",
    "num_timesteps = data_df.d.nunique()\n",
    "data_df = data_df.set_index(['id', 'd'])\n",
    "\n",
    "ids = ['item_id', 'dept_id', 'cat_id', 'store_id', 'state_id']\n",
    "enc_dec_feats = ['sell_price'] + label_encoded_cols"
   ]
  },
  {
   "cell_type": "code",
   "execution_count": null,
   "metadata": {},
   "outputs": [],
   "source": []
  }
 ],
 "metadata": {
  "kernelspec": {
   "display_name": "capstone",
   "language": "python",
   "name": "python3"
  },
  "language_info": {
   "codemirror_mode": {
    "name": "ipython",
    "version": 3
   },
   "file_extension": ".py",
   "mimetype": "text/x-python",
   "name": "python",
   "nbconvert_exporter": "python",
   "pygments_lexer": "ipython3",
   "version": "3.8.10"
  }
 },
 "nbformat": 4,
 "nbformat_minor": 2
}
