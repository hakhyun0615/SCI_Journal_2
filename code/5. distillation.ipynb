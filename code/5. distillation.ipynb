{
 "cells": [
  {
   "cell_type": "code",
   "execution_count": 3,
   "metadata": {},
   "outputs": [],
   "source": [
    "import os\n",
    "import numpy as np\n",
    "import pandas as pd"
   ]
  },
  {
   "cell_type": "code",
   "execution_count": null,
   "metadata": {},
   "outputs": [],
   "source": [
    "test_ids = np.empty((0, ))\n",
    "test_labels = np.empty((0, 28))\n",
    "test_forecasts = np.empty((0, 28))\n",
    "\n",
    "for level in range(1, 13):\n",
    "    level_dir = os.path.join(\"../result\", f\"level {level}\")\n",
    "    for root, dirs, files in os.walk(level_dir):\n",
    "        for file in files:\n",
    "            if file.startswith('test_labels'):\n",
    "                with open(os.path.join(root, file), 'rb') as pickle_file:\n",
    "                    datas = pd.read_pickle(pickle_file)\n",
    "                    arrays = np.array(datas)\n",
    "                    arrays = np.squeeze(arrays, axis=-1)\n",
    "                    arrays = arrays[:, -28:]\n",
    "                    test_labels = np.concatenate((test_labels, arrays), axis=0)\n",
    "            if file.startswith('test_forecasts'):\n",
    "                with open(os.path.join(root, file), 'rb') as pickle_file:\n",
    "                    datas = pd.read_pickle(pickle_file)\n",
    "                    ids = np.array([data.item_id for data in datas])\n",
    "                    test_ids = np.concatenate((test_ids, ids), axis=0)\n",
    "                    arrays = np.array([data.quantile(0.5) for data in datas])\n",
    "                    test_forecasts = np.concatenate((test_forecasts, arrays), axis=0)"
   ]
  }
 ],
 "metadata": {
  "kernelspec": {
   "display_name": "Python 3",
   "language": "python",
   "name": "python3"
  },
  "language_info": {
   "codemirror_mode": {
    "name": "ipython",
    "version": 3
   },
   "file_extension": ".py",
   "mimetype": "text/x-python",
   "name": "python",
   "nbconvert_exporter": "python",
   "pygments_lexer": "ipython3",
   "version": "3.9.6"
  }
 },
 "nbformat": 4,
 "nbformat_minor": 2
}
