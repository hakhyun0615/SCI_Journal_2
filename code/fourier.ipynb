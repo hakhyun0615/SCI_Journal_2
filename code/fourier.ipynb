{
 "cells": [
  {
   "cell_type": "markdown",
   "metadata": {},
   "source": [
    "### log differencing"
   ]
  },
  {
   "cell_type": "code",
   "execution_count": null,
   "metadata": {},
   "outputs": [],
   "source": [
    "def calculate_sell_price_changes_with_log_differencing(sell_prices, first_sales_column_dict, save_result=False, save_plot=False):\n",
    "\n",
    "    # 데이터 복사\n",
    "    log_differenced_sell_prices = sell_prices.copy()\n",
    "\n",
    "    # 행별로 시작 컬럼부터 차분 수행\n",
    "    for idx, sell_price in sell_prices.iterrows():\n",
    "        # 시작 컬럼 가져오기\n",
    "        start_col = first_sales_column_dict.get(tuple(sell_price[:2]))\n",
    "        \n",
    "        # 시작 컬럼 이후 데이터 선택\n",
    "        start_index = sell_prices.columns.get_loc(start_col)\n",
    "        sell_price_values = np.array(sell_price.iloc[start_index:].values, dtype=np.float64)\n",
    "\n",
    "        # 로그 변환 및 차분 계산\n",
    "        logged_sell_price_values = np.log(sell_price_values + 1e-9)  # 로그 계산 시 0 방지\n",
    "        log_differenced_sell_price_values = np.diff(logged_sell_price_values, prepend=logged_sell_price_values[0])\n",
    "\n",
    "        # 결과 저장\n",
    "        log_differenced_sell_prices.iloc[idx, start_index:] = log_differenced_sell_price_values\n",
    "\n",
    "        # 시각화\n",
    "        if save_plot:\n",
    "            fig, axs = plt.subplots(2, 1, figsize=(15, 10))\n",
    "\n",
    "            axs[0].plot(sell_price_values, label=f\"Original Sell Prices: {sell_price['state_id']}, {sell_price['item_id']}\")\n",
    "            axs[0].set_xlabel(\"Time\")\n",
    "            axs[0].set_ylabel(\"Sell Prices\")\n",
    "            axs[0].legend()\n",
    "\n",
    "            axs[1].plot(log_differenced_sell_price_values, label=f\"Log-Differenced Sell Prices: {sell_price['state_id']}, {sell_price['item_id']}\")\n",
    "            axs[1].set_xlabel(\"Time\")\n",
    "            axs[1].set_ylabel(\"Log-Differenced Sell Prices\")\n",
    "            axs[1].legend()\n",
    "\n",
    "            plt.tight_layout()\n",
    "            plt.savefig(f\"../data/log_differencing/plot/{sell_price['state_id']}_{sell_price['item_id']}.png\")\n",
    "            plt.close()\n",
    "\n",
    "    if save_result:\n",
    "        log_differenced_sell_prices.to_csv(\"../data/log_differencing/log_differenced_sell_prices.csv\", index=False)\n",
    "\n",
    "    return log_differenced_sell_prices"
   ]
  },
  {
   "cell_type": "code",
   "execution_count": null,
   "metadata": {},
   "outputs": [],
   "source": [
    "# 저장\n",
    "# log_differenced_sell_prices = calculate_sell_price_changes_with_log_differencing(sell_prices, first_sales_column_dict, save_result=True, save_plot=True)\n",
    "\n",
    "# 로드\n",
    "log_differenced_sell_prices = pd.read_csv(\"../data/log_differencing/log_differenced_sell_prices.csv\")"
   ]
  },
  {
   "cell_type": "code",
   "execution_count": null,
   "metadata": {},
   "outputs": [],
   "source": [
    "def analyze_stl_decomposition(data, period):\n",
    "    \"\"\"STL 분해 수행 및 분석\"\"\"\n",
    "    from statsmodels.tsa.seasonal import STL\n",
    "    \n",
    "    stl = STL(data, period=period)\n",
    "    result = stl.fit()\n",
    "    \n",
    "    return {\n",
    "        'trend': result.trend,\n",
    "        'seasonal': result.seasonal,\n",
    "        'resid': result.resid,\n",
    "        'strength_of_seasonality': 1 - result.resid.var() / (result.seasonal + result.resid).var()\n",
    "    }\n",
    "\n",
    "def optimize_period_selection(data, periods, snr_threshold=10):\n",
    "    \"\"\"SNR 기반 최적 주기 선택\"\"\"\n",
    "    selected_periods = []\n",
    "    current_snr = 0\n",
    "    \n",
    "    for period in sorted(periods):\n",
    "        # 해당 주기로 신호 재구성\n",
    "        reconstructed = reconstruct_signal_with_period(data, period)\n",
    "        new_snr = calculate_snr(data, reconstructed)\n",
    "        \n",
    "        if new_snr - current_snr > snr_threshold:\n",
    "            selected_periods.append(period)\n",
    "            current_snr = new_snr\n",
    "            \n",
    "    return selected_periods\n",
    "\n",
    "def analyze_residual_periodicity(residuals):\n",
    "    \"\"\"잔차의 주기성 분석\"\"\"\n",
    "    fft = np.fft.fft(residuals)\n",
    "    frequencies = np.fft.fftfreq(len(residuals))\n",
    "    \n",
    "    # 주요 주파수 성분 식별\n",
    "    magnitude_threshold = np.percentile(np.abs(fft), 95)\n",
    "    significant_freqs = frequencies[np.abs(fft) > magnitude_threshold]\n",
    "    \n",
    "    return [1/freq for freq in significant_freqs if freq != 0]\n"
   ]
  }
 ],
 "metadata": {
  "kernelspec": {
   "display_name": "capstone",
   "language": "python",
   "name": "python3"
  },
  "language_info": {
   "codemirror_mode": {
    "name": "ipython",
    "version": 3
   },
   "file_extension": ".py",
   "mimetype": "text/x-python",
   "name": "python",
   "nbconvert_exporter": "python",
   "pygments_lexer": "ipython3",
   "version": "3.8.10"
  }
 },
 "nbformat": 4,
 "nbformat_minor": 2
}
